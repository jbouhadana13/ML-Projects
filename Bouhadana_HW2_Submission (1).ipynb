{
 "cells": [
  {
   "cell_type": "markdown",
   "id": "ce2a012f",
   "metadata": {},
   "source": [
    "Problem 1: Evaluate Machine Learning Algorithms (25 points)\n",
    "In this problem, we want to use some statistical techniques we learned in class to estimate the\n",
    "performance of several machine learning algorithms. Use the data from homework 1. You can\n",
    "download the zip file for Homework 1, which contains the generated data set for this assignment\n",
    "and load the data into Python;"
   ]
  },
  {
   "cell_type": "code",
   "execution_count": 41,
   "id": "d0dfc593",
   "metadata": {},
   "outputs": [],
   "source": [
    "# Evaluate using Cross Validation\n",
    "from pandas import read_csv\n",
    "from sklearn.model_selection import RepeatedKFold\n",
    "from sklearn.model_selection import KFold\n",
    "from sklearn.model_selection import cross_val_score\n",
    "from sklearn.discriminant_analysis import LinearDiscriminantAnalysis\n",
    "from sklearn.linear_model import LogisticRegression\n",
    "from sklearn.neighbors import KNeighborsClassifier\n",
    "from sklearn.naive_bayes import GaussianNB\n",
    "from sklearn.svm import SVR\n",
    "from sklearn.svm import SVC\n",
    "import matplotlib.pyplot as plt\n",
    "\n",
    "# read and load the csv data file\n",
    "filename = \"/Users/jeremybouhadana/Downloads/myClassDataSet2.csv\"\n",
    "data = read_csv(filename)"
   ]
  },
  {
   "cell_type": "markdown",
   "id": "d1223a9b",
   "metadata": {},
   "source": [
    "(A) Use RepeatedKFold class with ‘random state=4’ to perform a repeated 10-fold cross-validation\n",
    "on the data with three repeats; Then, evaluates a logistic regression model with ‘liblinear’ solver\n",
    "and report the mean classification accuracy. (5 points)"
   ]
  },
  {
   "cell_type": "code",
   "execution_count": 42,
   "id": "462725ca",
   "metadata": {},
   "outputs": [
    {
     "name": "stdout",
     "output_type": "stream",
     "text": [
      "Mean accuracy: 0.9409666666666666\n"
     ]
    }
   ],
   "source": [
    "#Split into features and labels\n",
    "X = data.drop('class', axis=1)\n",
    "y = data['class']\n",
    "\n",
    "#Initialize logistic regression model\n",
    "logreg = LogisticRegression(solver='liblinear')\n",
    "\n",
    "#Initialize repeated k-fold cross-validation \n",
    "rkfold = RepeatedKFold(n_splits=10, n_repeats=3, random_state=4)\n",
    "\n",
    "#List for accuracy scores\n",
    "scores = []\n",
    "\n",
    "#Loop through folds and repeats\n",
    "for train_index, test_index in rkfold.split(X):\n",
    "    X_train, X_test = X.iloc[train_index], X.iloc[test_index]\n",
    "    y_train, y_test = y.iloc[train_index], y.iloc[test_index]\n",
    "\n",
    "    #Fit logreg on training set\n",
    "    logreg.fit(X_train, y_train)\n",
    "\n",
    "    #Evaluate model on test set and store accuracy score\n",
    "    score = logreg.score(X_test, y_test)\n",
    "    scores.append(score)\n",
    "\n",
    "#Calculate mean classification accuracy  \n",
    "mean_score = sum(scores) / len(scores)\n",
    "\n",
    "#Print mean accuracy accuracy\n",
    "print('Mean accuracy:', mean_score)"
   ]
  },
  {
   "cell_type": "markdown",
   "id": "530f5707",
   "metadata": {},
   "source": [
    "(B) Use the cross val score function to report ‘accuracy’, ‘neg log loss’, ‘roc auc’; explain what\n",
    "the results suggest (how you interpret the results). (3 points)"
   ]
  },
  {
   "cell_type": "code",
   "execution_count": 43,
   "id": "3078bb4c",
   "metadata": {},
   "outputs": [
    {
     "name": "stdout",
     "output_type": "stream",
     "text": [
      "Accuracy: 0.941000 (+/- 0.007497)\n",
      "Negative Log Loss: 0.196908 (+/- 0.024968)\n",
      "ROC AUC: 0.967627 (+/- 0.009574)\n"
     ]
    }
   ],
   "source": [
    "#Use the cross val score function\n",
    "accuracy = cross_val_score(logreg, X, y, cv=10, scoring='accuracy')\n",
    "neg_loss = cross_val_score(logreg, X, y, cv=10, scoring='neg_log_loss')\n",
    "roc_auc = cross_val_score(logreg, X, y, cv=10, scoring='roc_auc')\n",
    "\n",
    "#Calculate mean and standard deviation\n",
    "mean_accuracy = accuracy.mean()\n",
    "std_accuracy = accuracy.std()\n",
    "mean_log_loss = -neg_loss.mean()\n",
    "std_log_loss = neg_loss.std()\n",
    "mean_roc_auc = roc_auc.mean()\n",
    "std_roc_auc = roc_auc.std()\n",
    "\n",
    "#Report ‘accuracy’, ‘neg log loss’, ‘roc auc’\n",
    "print('Accuracy: %f (+/- %f)' % (mean_accuracy, std_accuracy))\n",
    "print('Negative Log Loss: %f (+/- %f)' % (mean_log_loss, std_log_loss))\n",
    "print('ROC AUC: %f (+/- %f)' % (mean_roc_auc, std_roc_auc))\n"
   ]
  },
  {
   "cell_type": "markdown",
   "id": "067f1886",
   "metadata": {},
   "source": [
    "For this dataset, the logistic regression model performed well. The mean accuracy score of 0.941 indicates that the model was effective at classifying most of the observations. The mean negative log loss of 0.196908 inidicates that the model's predicted probabilities are somewhat close to the its true probabilities. The mean ROC AUC score of 0.967627 indicates that the model is effective at differentiating between positive and negative classes\n",
    "\n",
    "STD in this case represents the variability for the model's performance. For example, a high STD would indicate that the model is overfitting."
   ]
  },
  {
   "cell_type": "markdown",
   "id": "c3e01828",
   "metadata": {},
   "source": [
    "(C) Using 10-fold cross-validation ( KFold with ‘random state = 4’) spot-check 2 linear algorithms\n",
    "LinearDiscriminantAnalysis , LogisticRegression (with ‘liblinear’ solver); and 3 nonlinear algorithms KNeighborsClassifier , GaussianNB , and SVC . (12 point)"
   ]
  },
  {
   "cell_type": "code",
   "execution_count": 44,
   "id": "e40670a5",
   "metadata": {},
   "outputs": [
    {
     "name": "stdout",
     "output_type": "stream",
     "text": [
      "LDA: mean = 0.931800 STD = (0.005997)\n",
      "LR: mean = 0.940900 STD = (0.006441)\n",
      "KNC: mean = 0.935300 STD = (0.008247)\n",
      "GNB: mean = 0.941800 STD = (0.005528)\n",
      "SVC: mean = 0.943500 STD = (0.005590)\n"
     ]
    }
   ],
   "source": [
    "import warnings\n",
    "warnings.simplefilter(action='ignore', category=FutureWarning)\n",
    "#10-fold KFold cross-validation with random_state=4\n",
    "kf = KFold(n_splits=10, shuffle=True, random_state=4)\n",
    "\n",
    "#Define algorithms to spot-check\n",
    "models = []\n",
    "models.append(('LDA', LinearDiscriminantAnalysis()))\n",
    "models.append(('LR', LogisticRegression(solver='liblinear')))\n",
    "models.append(('KNC', KNeighborsClassifier()))\n",
    "models.append(('GNB', GaussianNB()))\n",
    "models.append(('SVC', SVC()))\n",
    "\n",
    "#Use cross-validation to evaluate\n",
    "results = []\n",
    "names = []\n",
    "for name, model in models:\n",
    "    cv_results = cross_val_score(model, X, y, cv=kf, scoring='accuracy')\n",
    "    results.append(cv_results)\n",
    "    names.append(name)\n",
    "    print(\"%s: mean = %f STD = (%f)\" % (name, cv_results.mean(), cv_results.std()))"
   ]
  },
  {
   "cell_type": "markdown",
   "id": "0b523528",
   "metadata": {},
   "source": [
    "(D) Use box and whisker plots to compare the accuracy of the models you created in part (c). (5\n",
    "points)"
   ]
  },
  {
   "cell_type": "code",
   "execution_count": 45,
   "id": "8b44878b",
   "metadata": {},
   "outputs": [
    {
     "data": {
      "image/png": "[encoded data removed]",
      "text/plain": [
       "<Figure size 640x480 with 1 Axes>"
      ]
     },
     "metadata": {},
     "output_type": "display_data"
    }
   ],
   "source": [
    "#Plot box and whisker plot\n",
    "figa = plt.figure()\n",
    "figa.suptitle('Model Comparison (Accuracy)')\n",
    "ax = figa.add_subplot(111)\n",
    "plt.boxplot(results)\n",
    "ax.set_xticklabels(names)\n",
    "plt.show()"
   ]
  },
  {
   "cell_type": "markdown",
   "id": "efef60b3",
   "metadata": {},
   "source": [
    "Problem 2: Automate Machine Learning Workfows with Pipeline (12 points)\n",
    "In this problem, you will continue to use the dataset from problem 1. You will Pipeline utilities in\n",
    "Python scikit-learn to automate standard applied machine learning workflows."
   ]
  },
  {
   "cell_type": "code",
   "execution_count": 46,
   "id": "a7b733c1",
   "metadata": {},
   "outputs": [],
   "source": [
    "#import necessary packages to the Jupyter notebook\n",
    "#Create a pipeline that extracts features from the data then creates a model\n",
    "from pandas import read_csv\n",
    "from sklearn.model_selection import KFold\n",
    "from sklearn.model_selection import cross_val_score\n",
    "from sklearn.pipeline import Pipeline\n",
    "from sklearn.preprocessing import StandardScaler\n",
    "from sklearn.pipeline import FeatureUnion\n",
    "from sklearn.linear_model import LogisticRegression\n",
    "from sklearn.decomposition import PCA\n",
    "from sklearn.feature_selection import SelectKBest\n",
    "\n",
    "\n",
    "\n",
    "array = data.values\n",
    "\n",
    "# separate array into input and output components\n",
    "X = array [:,0:8]\n",
    "Y = array [:,8]"
   ]
  },
  {
   "cell_type": "markdown",
   "id": "3826304e",
   "metadata": {},
   "source": [
    "(A) Define a 5-step pipeline with the following steps; and perform a k-fold cross validation using\n",
    "KFold with ‘random state =5’ (2 points), and provide a summary of accuracy of the setup\n",
    "on the dataset.\n",
    "\n",
    "    i. Standardize the data using StandardScaler() .(2 points)\n",
    "    ii. Extract 3 features with Principal Component Analysis using PCA() .(2 points)\n",
    "    iii. Extract 6 features with statistical selection using SelectKBest() .(2 points)\n",
    "    iv. Combine features, extracted from two previous steps using FeatureUnion() .(2 points)\n",
    "    v. Learn a Logistic Regression using LogisticRegression with ‘liblinear’ solver.(2 points)"
   ]
  },
  {
   "cell_type": "code",
   "execution_count": 47,
   "id": "1d6f8e6d",
   "metadata": {},
   "outputs": [
    {
     "name": "stdout",
     "output_type": "stream",
     "text": [
      "Accuracy: mean=0.940900 STD=(0.005576)\n"
     ]
    }
   ],
   "source": [
    "#Define 5 pipeline steps\n",
    "scaler = StandardScaler()\n",
    "pca = PCA(n_components=3)\n",
    "select = SelectKBest(k=6)\n",
    "combined_features = FeatureUnion([('pca', pca), ('select', select)])\n",
    "logreg = LogisticRegression(solver='liblinear')\n",
    "\n",
    "pipeline = Pipeline(steps=[('scaler', scaler), ('features', combined_features), ('logreg', logreg)])\n",
    "\n",
    "#Define kfold cross-validation \n",
    "kfold = KFold(n_splits=10, shuffle=True, random_state=5)\n",
    "\n",
    "#Evaluate pipeline through cross_val\n",
    "scores = cross_val_score(pipeline, X, y, cv=kfold, scoring='accuracy')\n",
    "\n",
    "#Print mean and STD \n",
    "print('Accuracy: mean={:f} STD=({:f})'.format(scores.mean(), scores.std()))"
   ]
  },
  {
   "cell_type": "markdown",
   "id": "1332928a",
   "metadata": {},
   "source": [
    "Problem 3: Improve Performance with Ensembles (13 points)\n",
    "In this problem, you will continue to use the dataset from problem 1. You will create ensembles in\n",
    "Python using scikit-learn to improve the performance of models on your problems. For each ensemble\n",
    "algorithm use 10-fold cross-validation using KFold ; and the classification accuracy performance\n",
    "metric to report the reuslts."
   ]
  },
  {
   "cell_type": "code",
   "execution_count": 48,
   "id": "fc7d5db2",
   "metadata": {},
   "outputs": [],
   "source": [
    "#import necessary packages to the Jupyter notebook\n",
    "#Bagged Decision Trees for Classification\n",
    "from pandas import read_csv\n",
    "from sklearn.model_selection import KFold\n",
    "from sklearn.model_selection import cross_val_score\n",
    "from sklearn.ensemble import BaggingClassifier\n",
    "from sklearn.ensemble import AdaBoostClassifier\n",
    "from sklearn.ensemble import VotingClassifier\n",
    "from sklearn.tree import DecisionTreeClassifier\n",
    "from sklearn.linear_model import LogisticRegression\n",
    "from sklearn.svm import SVC\n",
    "\n",
    "# read and load the csv data file\n",
    "filename = \"/Users/jeremybouhadana/Downloads/myClassDataSet2.csv\"\n",
    "data = read_csv(filename)\n",
    "\n",
    "array = data.values\n",
    "\n",
    "# separate array into input and output components\n",
    "X = array [:,0:8]\n",
    "Y = array [:,8]"
   ]
  },
  {
   "cell_type": "markdown",
   "id": "c9f0220a",
   "metadata": {},
   "source": [
    "(A) Create a BaggingClassifier with the Classification and Regression Trees algorithm using\n",
    "DecisionTreeClassifier with total number of 100 trees; For both k-fold and Bagging classifier use the ‘random state = 7’; Then, report the mean classification accuracy. (5 points)"
   ]
  },
  {
   "cell_type": "code",
   "execution_count": 49,
   "id": "06f71a40",
   "metadata": {},
   "outputs": [
    {
     "name": "stdout",
     "output_type": "stream",
     "text": [
      "Mean classification accuracy: 0.950600\n"
     ]
    }
   ],
   "source": [
    "#Initialize DecisionTreeClassifier\n",
    "dtc = DecisionTreeClassifier()\n",
    "\n",
    "#Create BaggingClassifier with total number of 100 trees\n",
    "bc = BaggingClassifier(dtc, n_estimators=100, random_state=7)\n",
    "\n",
    "#Initialize kfold with random state 7\n",
    "kfold = KFold(n_splits=10, shuffle=True, random_state=7)\n",
    "\n",
    "#Cross validation and report the mean classification accuracy\n",
    "scores = cross_val_score(bc, X, y, cv=kfold)\n",
    "mean_accuracy = scores.mean()\n",
    "\n",
    "print(\"Mean classification accuracy: {:f}\".format(mean_accuracy))"
   ]
  },
  {
   "cell_type": "markdown",
   "id": "aa3bc792",
   "metadata": {},
   "source": [
    "(B) Create a AdaBoostClassifier using 30 decision trees in sequence; For both k-fold and AdaBoost Classifier use the ‘random state = 7’; Then, report the mean classification accuracy. (3\n",
    "points)"
   ]
  },
  {
   "cell_type": "code",
   "execution_count": 50,
   "id": "3ab49789",
   "metadata": {},
   "outputs": [
    {
     "name": "stdout",
     "output_type": "stream",
     "text": [
      "Mean classification accuracy: 0.9246000000000001\n"
     ]
    }
   ],
   "source": [
    "#Create a AdaBoostClassifier using 30 decision trees in sequence\n",
    "abc = AdaBoostClassifier(base_estimator=dtc, n_estimators=30, random_state=7)\n",
    "\n",
    "#k-fold cross-validation with random state = 7\n",
    "kfold = KFold(n_splits=10, shuffle=True, random_state=7)\n",
    "results = cross_val_score(abc, X, y, cv=kfold)\n",
    "\n",
    "#Report the mean classification accuracy\n",
    "print(\"Mean classification accuracy:\", results.mean())"
   ]
  },
  {
   "cell_type": "markdown",
   "id": "bd3cde8b",
   "metadata": {},
   "source": [
    "(C) Create a VotingClassifier that combines the predictions of three classification models including logistic regression ( LogisticRegression with ‘liblinear’ solver), classification and\n",
    "regression trees ( DecisionTreeClassifier ) and support vector machines ( SVC ) together,\n",
    "and provide a mean estimate of classification accuracy. For k-fold use the ‘random state = 7’.\n",
    "(5 points)"
   ]
  },
  {
   "cell_type": "code",
   "execution_count": 54,
   "id": "d02073c0",
   "metadata": {},
   "outputs": [
    {
     "name": "stdout",
     "output_type": "stream",
     "text": [
      "Mean estimate of classification accuracy: 0.9473999999999998\n"
     ]
    }
   ],
   "source": [
    "#Define missing model (SVC) as dtc and logreg have been previously defined \n",
    "supportvector_model = SVC()\n",
    "\n",
    "#Create VotingClassifier\n",
    "vm = VotingClassifier(\n",
    "    estimators=[('lr', logreg), ('dt', dtc), ('svc', supportvector_model)],\n",
    "    voting='hard')\n",
    "\n",
    "#Use k-fold cross-validation\n",
    "kfold = KFold(n_splits=10, shuffle=True, random_state=7)\n",
    "results = cross_val_score(vm, X, y, cv=kfold)\n",
    "\n",
    "#Print mean accuracy\n",
    "print(f\"Mean estimate of classification accuracy: {results.mean()}\")"
   ]
  }
 ],
 "metadata": {
  "kernelspec": {
   "display_name": "Python 3 (ipykernel)",
   "language": "python",
   "name": "python3"
  },
  "language_info": {
   "codemirror_mode": {
    "name": "ipython",
    "version": 3
   },
   "file_extension": ".py",
   "mimetype": "text/x-python",
   "name": "python",
   "nbconvert_exporter": "python",
   "pygments_lexer": "ipython3",
   "version": "3.9.13"
  }
 },
 "nbformat": 4,
 "nbformat_minor": 5
}
